{
  "nbformat": 4,
  "nbformat_minor": 0,
  "metadata": {
    "colab": {
      "provenance": [],
      "toc_visible": true
    },
    "kernelspec": {
      "name": "python3",
      "display_name": "Python 3"
    },
    "language_info": {
      "name": "python"
    }
  },
  "cells": [
    {
      "cell_type": "markdown",
      "source": [
        "# Prerequisites"
      ],
      "metadata": {
        "id": "7NA1zJxe-E29"
      }
    },
    {
      "cell_type": "markdown",
      "source": [
        "# Introduction\n",
        " (motivation)\n",
        "\n",
        "\n",
        "## What will be covered in this notebook?\n",
        "\n",
        "## Core concepts\n",
        "    - evaluating generated text\n",
        "    - fairness and bias in AI/ML\n",
        "    - Importance of being use-case specific over benchmark\n",
        "## The Task\n",
        "    - set up the immediate problem we are solving with this notebook"
      ],
      "metadata": {
        "id": "V-KQXYOGC3cT"
      }
    },
    {
      "cell_type": "markdown",
      "source": [
        "# Fairness and Bias Evaluation Workflow\n",
        "\n",
        "(Diagram here?)"
      ],
      "metadata": {
        "id": "w5QGbv66Dzv7"
      }
    },
    {
      "cell_type": "code",
      "execution_count": null,
      "metadata": {
        "id": "_hXakdso83OJ"
      },
      "outputs": [],
      "source": []
    },
    {
      "cell_type": "markdown",
      "source": [
        "# Set up"
      ],
      "metadata": {
        "id": "qnpgvTV_DVt8"
      }
    },
    {
      "cell_type": "code",
      "source": [
        "import os\n",
        "from google.colab import userdata\n",
        "\n",
        "GOOGLE_API_KEY=userdata.get('GOOGLE_API_KEY')\n",
        "MISTRAL_API_KEY = userdata.get('MISTRAL_API_KEY')\n",
        "\n",
        "os.environ[\"GOOGLE_API_KEY\"] = GOOGLE_API_KEY\n",
        "os.environ[\"MISTRAL_API_KEY\"] = MISTRAL_API_KEY"
      ],
      "metadata": {
        "id": "NWOQHkPpEz41"
      },
      "execution_count": null,
      "outputs": []
    },
    {
      "cell_type": "markdown",
      "source": [
        "# Plan the evaluation approach"
      ],
      "metadata": {
        "id": "WEQhYCs5DZXH"
      }
    },
    {
      "cell_type": "markdown",
      "source": [
        "# Generate an evaluation dataset"
      ],
      "metadata": {
        "id": "87mTke3JDgQK"
      }
    },
    {
      "cell_type": "markdown",
      "source": [
        "# Run evaluation"
      ],
      "metadata": {
        "id": "H2kLaiIwDogY"
      }
    },
    {
      "cell_type": "markdown",
      "source": [
        "# Gut-check your evaluation"
      ],
      "metadata": {
        "id": "-b0ACFyOD7jX"
      }
    },
    {
      "cell_type": "markdown",
      "source": [
        "# What's Next?"
      ],
      "metadata": {
        "id": "W8RoOvxWDuP3"
      }
    },
    {
      "cell_type": "markdown",
      "source": [
        "# Resources"
      ],
      "metadata": {
        "id": "LU3H0f8VEVZ0"
      }
    }
  ]
}